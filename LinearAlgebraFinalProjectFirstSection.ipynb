{
 "cells": [
  {
   "cell_type": "code",
   "execution_count": 2,
   "id": "6796d674",
   "metadata": {},
   "outputs": [],
   "source": [
    "import numpy as np\n",
    "import math"
   ]
  },
  {
   "cell_type": "markdown",
   "id": "1b679623",
   "metadata": {},
   "source": [
    "# Main Function"
   ]
  },
  {
   "cell_type": "markdown",
   "id": "e12aea4a",
   "metadata": {},
   "source": [
    " In this method, we take the user's light out matrix to solve it by row reduction"
   ]
  },
  {
   "cell_type": "code",
   "execution_count": 3,
   "id": "edf07d81",
   "metadata": {},
   "outputs": [],
   "source": [
    "def main():\n",
    "    default_matrix = np.array([[1, 0, 0, 0, 1],\n",
    "                               [0, 1, 0, 1, 0],\n",
    "                               [0, 0, 1, 0, 0],\n",
    "                               [0, 1, 0, 1, 0],\n",
    "                               [1, 0, 0, 0, 1]])\n",
    "    deafault_dim = 5\n",
    "    while True :\n",
    "        print(\"Hello, welcome to light out solver!\\nPlease select the option you want:\\n1) Default Matrix\\n2)new matrix\")\n",
    "        print(\"Default Matrix:\\n\" , default_matrix)\n",
    "        choice = input()\n",
    "        if choice == \"1\" : make_matrix_for_solver(default_matrix , deafault_dim)\n",
    "        elif choice == \"2\" :\n",
    "            new_dimention = int(input(\"Please enter matrix dimention:\"))\n",
    "            new_matrix = np.arange(0,int(math.pow(new_dimention , 2))).reshape(new_dimention,new_dimention)*0\n",
    "            for xIndex in range(0,new_matrix.shape[0]):\n",
    "               for yIndex in range(0,new_matrix.shape[0]): \n",
    "                        new_element =  int(input(f\" please enter your new element [{xIndex},{yIndex}]\"))\n",
    "                        new_matrix[xIndex,yIndex] = new_element\n",
    "            print(\"\\nNew Matrix :\\n\" , new_matrix)\n",
    "            make_matrix_for_solver(new_matrix,new_dimention)\n",
    "        else : break"
   ]
  },
  {
   "cell_type": "markdown",
   "id": "88382ed8",
   "metadata": {},
   "source": [
    "# Make Agmented Matrix Function"
   ]
  },
  {
   "cell_type": "markdown",
   "id": "a97d6b67",
   "metadata": {},
   "source": [
    "In this function we form the agmeneted matrix. To solve this problem, we must pay attention to the dimensions of the input matrix, which is n * n, and based on this we have n * n Boolean equation, each of which forms a row of our matrix, and each of them represents the effect of compression of that house in the game. It is light out, so if a element is one, it means that by pressing the row(n) house, we will have a change in the brightness of that element house."
   ]
  },
  {
   "cell_type": "code",
   "execution_count": 4,
   "id": "a44b5669",
   "metadata": {},
   "outputs": [],
   "source": [
    "def  make_matrix_for_solver(game_matrix , dim):\n",
    "    dim_square = int(math.pow(dim , 2))\n",
    "    solver_matrix = np.arange(0,dim_square*(dim_square+1)).reshape(dim_square,dim_square+1)*0\n",
    "    solver_matrix[:,dim_square] = game_matrix.ravel().tolist()\n",
    "    \n",
    "    for index in range(0,dim_square):\n",
    "        solver_matrix[index , index ] = 1\n",
    "        above_index = index - dim\n",
    "        if above_index >= 0 : solver_matrix[index , above_index ] = 1\n",
    "        next_row_index = index + dim\n",
    "        if  next_row_index <= dim_square : solver_matrix[index , next_row_index ] = 1\n",
    "        remind_left_right = index % dim\n",
    "        if remind_left_right != 0 : solver_matrix[index , index -1 ] = 1\n",
    "        if remind_left_right != dim-1 : solver_matrix[index , index + 1 ] = 1\n",
    "    print(\"\\nAgmented Matrix:\\n\" , solver_matrix)    \n",
    "    echlon_matrix(solver_matrix)"
   ]
  },
  {
   "cell_type": "markdown",
   "id": "0cb9b959",
   "metadata": {},
   "source": [
    "# Echlon Matrix Function"
   ]
  },
  {
   "cell_type": "code",
   "execution_count": 5,
   "id": "dab0bfdc",
   "metadata": {},
   "outputs": [],
   "source": [
    "def echlon_matrix(solver_matrix):\n",
    "    for row_index in range(0,solver_matrix.shape[0]) :\n",
    "        solver_matrix = swap_zero_piviot(solver_matrix,row_index)\n",
    "        for second_row_index in range(row_index+1,solver_matrix.shape[0]): \n",
    "            if (solver_matrix[second_row_index,row_index] == 1) :\n",
    "                solver_matrix[second_row_index,:] = xor_matrix_func(solver_matrix,second_row_index,row_index)\n",
    "    print(\"Echlon Matrix:\\n\",solver_matrix)\n",
    "    reduced_echlon(solver_matrix)\n",
    "        "
   ]
  },
  {
   "cell_type": "markdown",
   "id": "b0a20ba2",
   "metadata": {},
   "source": [
    "# Xor Matrix Funcion"
   ]
  },
  {
   "cell_type": "markdown",
   "id": "f4cc2c4a",
   "metadata": {},
   "source": [
    "In this function, we have to XOR the two rows of the matrix together to reduce the row , which is simple to implement, and based on the value of each row  with an piviot position, the operation is performed.If the first element is zero we know that the result is the element value of second row, so there is practically no need to define the condition, and only when we are on the one-sided element with the number one, our output is the opposite of the second number that we wrote in the condition."
   ]
  },
  {
   "cell_type": "code",
   "execution_count": 6,
   "id": "02e161fc",
   "metadata": {},
   "outputs": [],
   "source": [
    "def xor_matrix_func(solver_matrix,second_row_index,row_index):\n",
    "    for col_index in range(0,solver_matrix.shape[1]):\n",
    "        if solver_matrix[row_index,col_index] :\n",
    "            if (solver_matrix[second_row_index,col_index] == 0 ): solver_matrix[second_row_index,col_index] = 1\n",
    "            else : solver_matrix[second_row_index,col_index] = 0\n",
    "    return solver_matrix[second_row_index,:] "
   ]
  },
  {
   "cell_type": "markdown",
   "id": "1c9f752d",
   "metadata": {},
   "source": [
    "# Swap Zero Piviot function"
   ]
  },
  {
   "cell_type": "markdown",
   "id": "9873116d",
   "metadata": {},
   "source": [
    "In this function, we check the row reduction to continue correctly, so that if the piviot position of our diameter is zero, we should replace it with the first row lower than itself, which is one in that piviot position."
   ]
  },
  {
   "cell_type": "code",
   "execution_count": 7,
   "id": "e973f31c",
   "metadata": {},
   "outputs": [],
   "source": [
    "def swap_zero_piviot(solver_matrix,index):\n",
    "    if index < solver_matrix.shape[0] :\n",
    "      if solver_matrix[index,index] != 1 :\n",
    "        for current_row_index in range(index+1,solver_matrix.shape[0]) :\n",
    "            if solver_matrix[current_row_index,index] : \n",
    "                temp = np.matrix(solver_matrix[index])\n",
    "                solver_matrix[index] = solver_matrix[current_row_index]\n",
    "                solver_matrix[current_row_index] = np.array(temp)\n",
    "                break\n",
    "                \n",
    "    return  solver_matrix  "
   ]
  },
  {
   "cell_type": "code",
   "execution_count": 8,
   "id": "8c8b5b9d",
   "metadata": {},
   "outputs": [],
   "source": [
    "def reduced_echlon(solver_matrix):\n",
    "    for row_index in range(solver_matrix.shape[0]-1,-1,-1) :\n",
    "        \n",
    "        for second_row_index in range(row_index-1,-1,-1):\n",
    "            if (solver_matrix[second_row_index,row_index] == 1) :\n",
    "                solver_matrix[second_row_index,:] = xor_matrix_func(solver_matrix,second_row_index,row_index)\n",
    "    print(\"Reduced Echlon:\\n\",solver_matrix)\n",
    "    show_resualt(solver_matrix)"
   ]
  },
  {
   "cell_type": "markdown",
   "id": "e7ff2ddc",
   "metadata": {},
   "source": [
    "# Lets Show The Result of The Game"
   ]
  },
  {
   "cell_type": "code",
   "execution_count": 9,
   "id": "ebb06eb6",
   "metadata": {},
   "outputs": [],
   "source": [
    "def show_resualt(solver_matrix):\n",
    "     solved = True\n",
    "     for row_index in range(0,solver_matrix.shape[0]) :\n",
    "            if np.sum(solver_matrix[row_index,0:solver_matrix.shape[1]-2]) == 0 and solver_matrix[row_index,solver_matrix.shape[1]-1] == 1 : \n",
    "                print(\"This solution cannot be resolved \")\n",
    "                solved = False\n",
    "                break\n",
    "    \n",
    "     if solved :\n",
    "        dimention_of_resualt = int(math.sqrt(solver_matrix.shape[0]))\n",
    "        solved_map = solver_matrix[:,solver_matrix.shape[1]-1].reshape(dimention_of_resualt,dimention_of_resualt)\n",
    "        print(\"Solved Map:\\n1 --> press for solving\\n\",solved_map)\n",
    "        print(\"index map\\n(each home index that you should press for solving game!)\\n\",\n",
    "                      np.arange(1,solver_matrix.shape[0]+1).reshape(solved_map.shape[0],solved_map.shape[0]))"
   ]
  },
  {
   "cell_type": "code",
   "execution_count": 11,
   "id": "99d5d3bf",
   "metadata": {},
   "outputs": [
    {
     "name": "stdout",
     "output_type": "stream",
     "text": [
      "Hello, welcome to light out solver!\n",
      "Please select the option you want:\n",
      "1) Default Matrix\n",
      "2)new matrix\n",
      "Default Matrix:\n",
      " [[1 0 0 0 1]\n",
      " [0 1 0 1 0]\n",
      " [0 0 1 0 0]\n",
      " [0 1 0 1 0]\n",
      " [1 0 0 0 1]]\n",
      "1\n",
      "\n",
      "Agmented Matrix:\n",
      " [[1 1 0 0 0 1 0 0 0 0 0 0 0 0 0 0 0 0 0 0 0 0 0 0 0 1]\n",
      " [1 1 1 0 0 0 1 0 0 0 0 0 0 0 0 0 0 0 0 0 0 0 0 0 0 0]\n",
      " [0 1 1 1 0 0 0 1 0 0 0 0 0 0 0 0 0 0 0 0 0 0 0 0 0 0]\n",
      " [0 0 1 1 1 0 0 0 1 0 0 0 0 0 0 0 0 0 0 0 0 0 0 0 0 0]\n",
      " [0 0 0 1 1 0 0 0 0 1 0 0 0 0 0 0 0 0 0 0 0 0 0 0 0 1]\n",
      " [1 0 0 0 0 1 1 0 0 0 1 0 0 0 0 0 0 0 0 0 0 0 0 0 0 0]\n",
      " [0 1 0 0 0 1 1 1 0 0 0 1 0 0 0 0 0 0 0 0 0 0 0 0 0 1]\n",
      " [0 0 1 0 0 0 1 1 1 0 0 0 1 0 0 0 0 0 0 0 0 0 0 0 0 0]\n",
      " [0 0 0 1 0 0 0 1 1 1 0 0 0 1 0 0 0 0 0 0 0 0 0 0 0 1]\n",
      " [0 0 0 0 1 0 0 0 1 1 0 0 0 0 1 0 0 0 0 0 0 0 0 0 0 0]\n",
      " [0 0 0 0 0 1 0 0 0 0 1 1 0 0 0 1 0 0 0 0 0 0 0 0 0 0]\n",
      " [0 0 0 0 0 0 1 0 0 0 1 1 1 0 0 0 1 0 0 0 0 0 0 0 0 0]\n",
      " [0 0 0 0 0 0 0 1 0 0 0 1 1 1 0 0 0 1 0 0 0 0 0 0 0 1]\n",
      " [0 0 0 0 0 0 0 0 1 0 0 0 1 1 1 0 0 0 1 0 0 0 0 0 0 0]\n",
      " [0 0 0 0 0 0 0 0 0 1 0 0 0 1 1 0 0 0 0 1 0 0 0 0 0 0]\n",
      " [0 0 0 0 0 0 0 0 0 0 1 0 0 0 0 1 1 0 0 0 1 0 0 0 0 0]\n",
      " [0 0 0 0 0 0 0 0 0 0 0 1 0 0 0 1 1 1 0 0 0 1 0 0 0 1]\n",
      " [0 0 0 0 0 0 0 0 0 0 0 0 1 0 0 0 1 1 1 0 0 0 1 0 0 0]\n",
      " [0 0 0 0 0 0 0 0 0 0 0 0 0 1 0 0 0 1 1 1 0 0 0 1 0 1]\n",
      " [0 0 0 0 0 0 0 0 0 0 0 0 0 0 1 0 0 0 1 1 0 0 0 0 1 0]\n",
      " [0 0 0 0 0 0 0 0 0 0 0 0 0 0 0 1 0 0 0 0 1 1 0 0 0 1]\n",
      " [0 0 0 0 0 0 0 0 0 0 0 0 0 0 0 0 1 0 0 0 1 1 1 0 0 0]\n",
      " [0 0 0 0 0 0 0 0 0 0 0 0 0 0 0 0 0 1 0 0 0 1 1 1 0 0]\n",
      " [0 0 0 0 0 0 0 0 0 0 0 0 0 0 0 0 0 0 1 0 0 0 1 1 1 0]\n",
      " [0 0 0 0 0 0 0 0 0 0 0 0 0 0 0 0 0 0 0 1 0 0 0 1 1 1]]\n",
      "Echlon Matrix:\n",
      " [[1 1 0 0 0 1 0 0 0 0 0 0 0 0 0 0 0 0 0 0 0 0 0 0 0 1]\n",
      " [0 1 1 1 0 0 0 1 0 0 0 0 0 0 0 0 0 0 0 0 0 0 0 0 0 0]\n",
      " [0 0 1 0 0 1 1 0 0 0 0 0 0 0 0 0 0 0 0 0 0 0 0 0 0 1]\n",
      " [0 0 0 1 1 1 1 0 1 0 0 0 0 0 0 0 0 0 0 0 0 0 0 0 0 1]\n",
      " [0 0 0 0 1 0 1 1 1 0 1 0 0 0 0 0 0 0 0 0 0 0 0 0 0 1]\n",
      " [0 0 0 0 0 1 1 0 1 1 0 0 0 0 0 0 0 0 0 0 0 0 0 0 0 0]\n",
      " [0 0 0 0 0 0 1 1 1 1 1 1 0 0 0 0 0 0 0 0 0 0 0 0 0 0]\n",
      " [0 0 0 0 0 0 0 1 1 1 0 1 0 1 0 0 0 0 0 0 0 0 0 0 0 1]\n",
      " [0 0 0 0 0 0 0 0 1 0 1 1 1 0 0 0 0 0 0 0 0 0 0 0 0 1]\n",
      " [0 0 0 0 0 0 0 0 0 1 1 0 1 1 0 1 0 0 0 0 0 0 0 0 0 0]\n",
      " [0 0 0 0 0 0 0 0 0 0 1 0 1 0 1 0 0 0 0 0 0 0 0 0 0 0]\n",
      " [0 0 0 0 0 0 0 0 0 0 0 1 1 1 0 0 1 0 0 0 0 0 0 0 0 1]\n",
      " [0 0 0 0 0 0 0 0 0 0 0 0 1 0 1 1 1 0 0 0 1 0 0 0 0 0]\n",
      " [0 0 0 0 0 0 0 0 0 0 0 0 0 1 1 0 1 1 0 0 1 1 0 0 0 0]\n",
      " [0 0 0 0 0 0 0 0 0 0 0 0 0 0 1 1 0 1 1 0 1 0 1 0 0 0]\n",
      " [0 0 0 0 0 0 0 0 0 0 0 0 0 0 0 1 1 1 0 0 0 0 0 0 0 0]\n",
      " [0 0 0 0 0 0 0 0 0 0 0 0 0 0 0 0 1 0 1 0 0 0 0 0 0 0]\n",
      " [0 0 0 0 0 0 0 0 0 0 0 0 0 0 0 0 0 1 1 1 0 0 0 0 0 0]\n",
      " [0 0 0 0 0 0 0 0 0 0 0 0 0 0 0 0 0 0 1 1 1 0 1 0 1 0]\n",
      " [0 0 0 0 0 0 0 0 0 0 0 0 0 0 0 0 0 0 0 1 0 1 1 1 0 1]\n",
      " [0 0 0 0 0 0 0 0 0 0 0 0 0 0 0 0 0 0 0 0 1 0 1 1 0 0]\n",
      " [0 0 0 0 0 0 0 0 0 0 0 0 0 0 0 0 0 0 0 0 0 1 1 0 1 0]\n",
      " [0 0 0 0 0 0 0 0 0 0 0 0 0 0 0 0 0 0 0 0 0 0 1 1 1 1]\n",
      " [0 0 0 0 0 0 0 0 0 0 0 0 0 0 0 0 0 0 0 0 0 0 0 0 0 0]\n",
      " [0 0 0 0 0 0 0 0 0 0 0 0 0 0 0 0 0 0 0 0 0 0 0 0 0 0]]\n",
      "Reduced Echlon:\n",
      " [[1 0 0 0 0 0 0 0 0 0 0 0 0 0 0 0 0 0 0 0 0 0 0 0 1 0]\n",
      " [0 1 0 0 0 0 0 0 0 0 0 0 0 0 0 0 0 0 0 0 0 0 0 1 0 1]\n",
      " [0 0 1 0 0 0 0 0 0 0 0 0 0 0 0 0 0 0 0 0 0 0 0 1 1 0]\n",
      " [0 0 0 1 0 0 0 0 0 0 0 0 0 0 0 0 0 0 0 0 0 0 0 1 0 0]\n",
      " [0 0 0 0 1 0 0 0 0 0 0 0 0 0 0 0 0 0 0 0 0 0 0 0 1 1]\n",
      " [0 0 0 0 0 1 0 0 0 0 0 0 0 0 0 0 0 0 0 0 0 0 0 1 1 0]\n",
      " [0 0 0 0 0 0 1 0 0 0 0 0 0 0 0 0 0 0 0 0 0 0 0 0 0 1]\n",
      " [0 0 0 0 0 0 0 1 0 0 0 0 0 0 0 0 0 0 0 0 0 0 0 1 1 1]\n",
      " [0 0 0 0 0 0 0 0 1 0 0 0 0 0 0 0 0 0 0 0 0 0 0 0 0 1]\n",
      " [0 0 0 0 0 0 0 0 0 1 0 0 0 0 0 0 0 0 0 0 0 0 0 1 1 0]\n",
      " [0 0 0 0 0 0 0 0 0 0 1 0 0 0 0 0 0 0 0 0 0 0 0 1 0 1]\n",
      " [0 0 0 0 0 0 0 0 0 0 0 1 0 0 0 0 0 0 0 0 0 0 0 1 0 0]\n",
      " [0 0 0 0 0 0 0 0 0 0 0 0 1 0 0 0 0 0 0 0 0 0 0 0 0 1]\n",
      " [0 0 0 0 0 0 0 0 0 0 0 0 0 1 0 0 0 0 0 0 0 0 0 1 0 1]\n",
      " [0 0 0 0 0 0 0 0 0 0 0 0 0 0 1 0 0 0 0 0 0 0 0 1 0 0]\n",
      " [0 0 0 0 0 0 0 0 0 0 0 0 0 0 0 1 0 0 0 0 0 0 0 1 1 1]\n",
      " [0 0 0 0 0 0 0 0 0 0 0 0 0 0 0 0 1 0 0 0 0 0 0 0 0 1]\n",
      " [0 0 0 0 0 0 0 0 0 0 0 0 0 0 0 0 0 1 0 0 0 0 0 1 1 0]\n",
      " [0 0 0 0 0 0 0 0 0 0 0 0 0 0 0 0 0 0 1 0 0 0 0 0 0 1]\n",
      " [0 0 0 0 0 0 0 0 0 0 0 0 0 0 0 0 0 0 0 1 0 0 0 1 1 1]\n",
      " [0 0 0 0 0 0 0 0 0 0 0 0 0 0 0 0 0 0 0 0 1 0 0 0 1 1]\n",
      " [0 0 0 0 0 0 0 0 0 0 0 0 0 0 0 0 0 0 0 0 0 1 0 1 0 1]\n",
      " [0 0 0 0 0 0 0 0 0 0 0 0 0 0 0 0 0 0 0 0 0 0 1 1 1 1]\n",
      " [0 0 0 0 0 0 0 0 0 0 0 0 0 0 0 0 0 0 0 0 0 0 0 0 0 0]\n",
      " [0 0 0 0 0 0 0 0 0 0 0 0 0 0 0 0 0 0 0 0 0 0 0 0 0 0]]\n",
      "Solved Map:\n",
      "1 --> press for solving\n",
      " [[0 1 0 0 1]\n",
      " [0 1 1 1 0]\n",
      " [1 0 1 1 0]\n",
      " [1 1 0 1 1]\n",
      " [1 1 1 0 0]]\n",
      "index map\n",
      "(each home index that you should press for solving game!)\n",
      " [[ 1  2  3  4  5]\n",
      " [ 6  7  8  9 10]\n",
      " [11 12 13 14 15]\n",
      " [16 17 18 19 20]\n",
      " [21 22 23 24 25]]\n",
      "Hello, welcome to light out solver!\n",
      "Please select the option you want:\n",
      "1) Default Matrix\n",
      "2)new matrix\n",
      "Default Matrix:\n",
      " [[1 0 0 0 1]\n",
      " [0 1 0 1 0]\n",
      " [0 0 1 0 0]\n",
      " [0 1 0 1 0]\n",
      " [1 0 0 0 1]]\n",
      "3\n"
     ]
    }
   ],
   "source": [
    "main()"
   ]
  }
 ],
 "metadata": {
  "kernelspec": {
   "display_name": "Python 3 (ipykernel)",
   "language": "python",
   "name": "python3"
  },
  "language_info": {
   "codemirror_mode": {
    "name": "ipython",
    "version": 3
   },
   "file_extension": ".py",
   "mimetype": "text/x-python",
   "name": "python",
   "nbconvert_exporter": "python",
   "pygments_lexer": "ipython3",
   "version": "3.9.7"
  }
 },
 "nbformat": 4,
 "nbformat_minor": 5
}
